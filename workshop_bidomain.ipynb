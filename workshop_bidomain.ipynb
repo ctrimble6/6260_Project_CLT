{
 "cells": [
  {
   "cell_type": "code",
   "execution_count": null,
   "metadata": {},
   "outputs": [],
   "source": [
    "import Bidomain_module_mod as bidom\n",
    "import matplotlib.pyplot as plt\n",
    "\n"
   ]
  },
  {
   "cell_type": "markdown",
   "metadata": {},
   "source": [
    "The model is initiated by the following call. I have not had time to thoroughly debug everything."
   ]
  },
  {
   "cell_type": "code",
   "execution_count": null,
   "metadata": {},
   "outputs": [],
   "source": [
    "instance = bidom.Bidomain(200,dt = 0.01,cell_model = 'BR',conductivity_profile = 'uniform',s_factor =0.2,IC='uniform',stimulation='step',boundary = 'Neumann')"
   ]
  },
  {
   "cell_type": "code",
   "execution_count": null,
   "metadata": {},
   "outputs": [],
   "source": [
    "instance.run()"
   ]
  },
  {
   "cell_type": "code",
   "execution_count": null,
   "metadata": {},
   "outputs": [],
   "source": [
    "import numpy as np\n",
    "print(np.shape(instance.voltage))\n",
    "\n",
    "# Plotting the voltage\n",
    "n_times = np.shape(instance.voltage)[1]\n",
    "time = np.linspace(0,instance.dt*n_times,n_times)\n",
    "plt.figure()\n",
    "plt.plot(time,instance.voltage[9,:], label = 'Grid Point 10')\n",
    "plt.plot(time,instance.voltage[199,:], label = 'Grid Point 200')\n",
    "plt.title('Voltage')\n",
    "plt.xlabel('Time (ms)')\n",
    "plt.ylabel('Voltage')\n",
    "plt.legend()\n",
    "plt.show()"
   ]
  },
  {
   "cell_type": "code",
   "execution_count": null,
   "metadata": {},
   "outputs": [],
   "source": [
    "plt.figure()\n",
    "plt.plot(instance.voltage[:,0], label = 't = 0ms')\n",
    "plt.plot(instance.voltage[:,1050], label = 't = 10.0')\n",
    "plt.plot(instance.voltage[:,1100], label = 't = 11')\n",
    "plt.plot(instance.voltage[:,1200], label = 't = 12')\n",
    "plt.plot(instance.voltage[:,1300], label = 't = 13')\n",
    "plt.plot(instance.voltage[:,1400], label = 't = 14')\n",
    "\n",
    "\n",
    "plt.ylim([-100,100])\n",
    "plt.title('Action Potential Propagation')\n",
    "plt.xlabel('Grid Number')\n",
    "plt.ylabel('Voltage')\n",
    "plt.legend()\n",
    "plt.show()"
   ]
  },
  {
   "cell_type": "code",
   "execution_count": null,
   "metadata": {},
   "outputs": [],
   "source": [
    "\n",
    "# plot the time constants h and j \n",
    "voltages = np.linspace(-100,100,len(instance.cell.time_constant_table[2,:]))\n",
    "\n",
    "plt.figure()\n",
    "plt.plot(voltages[0:10000],instance.cell.time_constant_table[0,0:10000])\n",
    "#plt.plot(voltages[0:10000],instance.cell.time_constant_table[3,0:10000])\n",
    "plt.title('Time Constant m')\n",
    "plt.xlabel('Voltage (mV)')\n",
    "plt.ylabel('Time Constant (ms)')\n",
    "plt.legend(['m'])\n",
    "plt.show()"
   ]
  },
  {
   "cell_type": "code",
   "execution_count": null,
   "metadata": {},
   "outputs": [],
   "source": []
  }
 ],
 "metadata": {
  "kernelspec": {
   "display_name": "Python 3",
   "language": "python",
   "name": "python3"
  },
  "language_info": {
   "codemirror_mode": {
    "name": "ipython",
    "version": 3
   },
   "file_extension": ".py",
   "mimetype": "text/x-python",
   "name": "python",
   "nbconvert_exporter": "python",
   "pygments_lexer": "ipython3",
   "version": "3.11.5"
  }
 },
 "nbformat": 4,
 "nbformat_minor": 2
}
